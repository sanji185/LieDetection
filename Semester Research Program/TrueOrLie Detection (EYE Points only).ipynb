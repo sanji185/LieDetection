{
 "cells": [
  {
   "cell_type": "markdown",
   "id": "9f2af590",
   "metadata": {},
   "source": [
    "# 01. Import and Install Dependencies"
   ]
  },
  {
   "cell_type": "code",
   "execution_count": 1,
   "id": "0d20342e",
   "metadata": {
    "scrolled": true
   },
   "outputs": [
    {
     "name": "stdout",
     "output_type": "stream",
     "text": [
      "Requirement already satisfied: tensorflow in c:\\anaconda\\lib\\site-packages (2.5.0)\n",
      "Requirement already satisfied: tensorflow-gpu in c:\\anaconda\\lib\\site-packages (2.5.0)\n",
      "Requirement already satisfied: opencv-python in c:\\anaconda\\lib\\site-packages (4.5.5.62)\n",
      "Requirement already satisfied: mediapipe in c:\\anaconda\\lib\\site-packages (0.8.9.1)\n",
      "Requirement already satisfied: sklearn in c:\\anaconda\\lib\\site-packages (0.0)\n",
      "Requirement already satisfied: matplotlib in c:\\anaconda\\lib\\site-packages (3.4.3)\n",
      "Requirement already satisfied: google-pasta~=0.2 in c:\\users\\sms studio\\appdata\\roaming\\python\\python39\\site-packages (from tensorflow) (0.2.0)\n",
      "Requirement already satisfied: typing-extensions~=3.7.4 in c:\\users\\sms studio\\appdata\\roaming\\python\\python39\\site-packages (from tensorflow) (3.7.4.3)\n",
      "Requirement already satisfied: absl-py~=0.10 in c:\\users\\sms studio\\appdata\\roaming\\python\\python39\\site-packages (from tensorflow) (0.12.0)\n",
      "Requirement already satisfied: protobuf>=3.9.2 in c:\\users\\sms studio\\appdata\\roaming\\python\\python39\\site-packages (from tensorflow) (3.17.2)\n",
      "Requirement already satisfied: six~=1.15.0 in c:\\users\\sms studio\\appdata\\roaming\\python\\python39\\site-packages (from tensorflow) (1.15.0)\n",
      "Requirement already satisfied: wheel~=0.35 in c:\\users\\sms studio\\appdata\\roaming\\python\\python39\\site-packages (from tensorflow) (0.36.2)\n",
      "Requirement already satisfied: keras-nightly~=2.5.0.dev in c:\\users\\sms studio\\appdata\\roaming\\python\\python39\\site-packages (from tensorflow) (2.5.0.dev2021032900)\n",
      "Requirement already satisfied: astunparse~=1.6.3 in c:\\users\\sms studio\\appdata\\roaming\\python\\python39\\site-packages (from tensorflow) (1.6.3)\n",
      "Requirement already satisfied: h5py~=3.1.0 in c:\\users\\sms studio\\appdata\\roaming\\python\\python39\\site-packages (from tensorflow) (3.1.0)\n",
      "Requirement already satisfied: gast==0.4.0 in c:\\users\\sms studio\\appdata\\roaming\\python\\python39\\site-packages (from tensorflow) (0.4.0)\n",
      "Requirement already satisfied: keras-preprocessing~=1.1.2 in c:\\users\\sms studio\\appdata\\roaming\\python\\python39\\site-packages (from tensorflow) (1.1.2)\n",
      "Requirement already satisfied: opt-einsum~=3.3.0 in c:\\users\\sms studio\\appdata\\roaming\\python\\python39\\site-packages (from tensorflow) (3.3.0)\n",
      "Requirement already satisfied: grpcio~=1.34.0 in c:\\users\\sms studio\\appdata\\roaming\\python\\python39\\site-packages (from tensorflow) (1.34.1)\n",
      "Requirement already satisfied: numpy~=1.19.2 in c:\\anaconda\\lib\\site-packages (from tensorflow) (1.19.5)\n",
      "Requirement already satisfied: tensorboard~=2.5 in c:\\anaconda\\lib\\site-packages (from tensorflow) (2.8.0)\n",
      "Requirement already satisfied: flatbuffers~=1.12.0 in c:\\users\\sms studio\\appdata\\roaming\\python\\python39\\site-packages (from tensorflow) (1.12)\n",
      "Requirement already satisfied: wrapt~=1.12.1 in c:\\users\\sms studio\\appdata\\roaming\\python\\python39\\site-packages (from tensorflow) (1.12.1)\n",
      "Requirement already satisfied: tensorflow-estimator<2.6.0,>=2.5.0rc0 in c:\\users\\sms studio\\appdata\\roaming\\python\\python39\\site-packages (from tensorflow) (2.5.0)\n",
      "Requirement already satisfied: termcolor~=1.1.0 in c:\\users\\sms studio\\appdata\\roaming\\python\\python39\\site-packages (from tensorflow) (1.1.0)\n",
      "Requirement already satisfied: attrs>=19.1.0 in c:\\anaconda\\lib\\site-packages (from mediapipe) (21.2.0)\n",
      "Requirement already satisfied: opencv-contrib-python in c:\\anaconda\\lib\\site-packages (from mediapipe) (4.5.5.62)\n",
      "Requirement already satisfied: scikit-learn in c:\\anaconda\\lib\\site-packages (from sklearn) (0.24.2)\n",
      "Requirement already satisfied: python-dateutil>=2.7 in c:\\anaconda\\lib\\site-packages (from matplotlib) (2.8.2)\n",
      "Requirement already satisfied: pillow>=6.2.0 in c:\\anaconda\\lib\\site-packages (from matplotlib) (8.4.0)\n",
      "Requirement already satisfied: cycler>=0.10 in c:\\anaconda\\lib\\site-packages (from matplotlib) (0.10.0)\n",
      "Requirement already satisfied: pyparsing>=2.2.1 in c:\\anaconda\\lib\\site-packages (from matplotlib) (3.0.4)\n",
      "Requirement already satisfied: kiwisolver>=1.0.1 in c:\\anaconda\\lib\\site-packages (from matplotlib) (1.3.1)\n",
      "Requirement already satisfied: requests<3,>=2.21.0 in c:\\anaconda\\lib\\site-packages (from tensorboard~=2.5->tensorflow) (2.26.0)\n",
      "Requirement already satisfied: setuptools>=41.0.0 in c:\\anaconda\\lib\\site-packages (from tensorboard~=2.5->tensorflow) (58.0.4)\n",
      "Requirement already satisfied: tensorboard-data-server<0.7.0,>=0.6.0 in c:\\users\\sms studio\\appdata\\roaming\\python\\python39\\site-packages (from tensorboard~=2.5->tensorflow) (0.6.1)\n",
      "Requirement already satisfied: werkzeug>=0.11.15 in c:\\anaconda\\lib\\site-packages (from tensorboard~=2.5->tensorflow) (2.0.2)\n",
      "Requirement already satisfied: tensorboard-plugin-wit>=1.6.0 in c:\\users\\sms studio\\appdata\\roaming\\python\\python39\\site-packages (from tensorboard~=2.5->tensorflow) (1.8.0)\n",
      "Requirement already satisfied: markdown>=2.6.8 in c:\\users\\sms studio\\appdata\\roaming\\python\\python39\\site-packages (from tensorboard~=2.5->tensorflow) (3.3.4)\n",
      "Requirement already satisfied: google-auth-oauthlib<0.5,>=0.4.1 in c:\\users\\sms studio\\appdata\\roaming\\python\\python39\\site-packages (from tensorboard~=2.5->tensorflow) (0.4.4)\n",
      "Requirement already satisfied: google-auth<3,>=1.6.3 in c:\\users\\sms studio\\appdata\\roaming\\python\\python39\\site-packages (from tensorboard~=2.5->tensorflow) (1.30.1)\n",
      "Requirement already satisfied: scipy>=0.19.1 in c:\\anaconda\\lib\\site-packages (from scikit-learn->sklearn) (1.7.1)\n",
      "Requirement already satisfied: joblib>=0.11 in c:\\anaconda\\lib\\site-packages (from scikit-learn->sklearn) (1.1.0)\n",
      "Requirement already satisfied: threadpoolctl>=2.0.0 in c:\\anaconda\\lib\\site-packages (from scikit-learn->sklearn) (2.2.0)\n",
      "Requirement already satisfied: rsa<5,>=3.1.4 in c:\\users\\sms studio\\appdata\\roaming\\python\\python39\\site-packages (from google-auth<3,>=1.6.3->tensorboard~=2.5->tensorflow) (4.7.2)\n",
      "Requirement already satisfied: pyasn1-modules>=0.2.1 in c:\\users\\sms studio\\appdata\\roaming\\python\\python39\\site-packages (from google-auth<3,>=1.6.3->tensorboard~=2.5->tensorflow) (0.2.8)\n",
      "Requirement already satisfied: cachetools<5.0,>=2.0.0 in c:\\users\\sms studio\\appdata\\roaming\\python\\python39\\site-packages (from google-auth<3,>=1.6.3->tensorboard~=2.5->tensorflow) (4.2.2)\n",
      "Requirement already satisfied: requests-oauthlib>=0.7.0 in c:\\users\\sms studio\\appdata\\roaming\\python\\python39\\site-packages (from google-auth-oauthlib<0.5,>=0.4.1->tensorboard~=2.5->tensorflow) (1.3.0)\n",
      "Requirement already satisfied: urllib3<1.27,>=1.21.1 in c:\\anaconda\\lib\\site-packages (from requests<3,>=2.21.0->tensorboard~=2.5->tensorflow) (1.26.7)\n",
      "Requirement already satisfied: idna<4,>=2.5 in c:\\anaconda\\lib\\site-packages (from requests<3,>=2.21.0->tensorboard~=2.5->tensorflow) (3.2)\n",
      "Requirement already satisfied: certifi>=2017.4.17 in c:\\users\\sms studio\\appdata\\roaming\\python\\python39\\site-packages (from requests<3,>=2.21.0->tensorboard~=2.5->tensorflow) (2021.5.30)\n",
      "Requirement already satisfied: charset-normalizer~=2.0.0 in c:\\anaconda\\lib\\site-packages (from requests<3,>=2.21.0->tensorboard~=2.5->tensorflow) (2.0.4)\n",
      "Requirement already satisfied: pyasn1<0.5.0,>=0.4.6 in c:\\users\\sms studio\\appdata\\roaming\\python\\python39\\site-packages (from pyasn1-modules>=0.2.1->google-auth<3,>=1.6.3->tensorboard~=2.5->tensorflow) (0.4.8)\n",
      "Requirement already satisfied: oauthlib>=3.0.0 in c:\\users\\sms studio\\appdata\\roaming\\python\\python39\\site-packages (from requests-oauthlib>=0.7.0->google-auth-oauthlib<0.5,>=0.4.1->tensorboard~=2.5->tensorflow) (3.1.1)\n"
     ]
    },
    {
     "name": "stderr",
     "output_type": "stream",
     "text": [
      "WARNING: You are using pip version 22.0.4; however, version 22.1.2 is available.\n",
      "You should consider upgrading via the 'C:\\Anaconda\\python.exe -m pip install --upgrade pip' command.\n"
     ]
    }
   ],
   "source": [
    "!pip install tensorflow tensorflow-gpu opencv-python mediapipe sklearn matplotlib"
   ]
  },
  {
   "cell_type": "code",
   "execution_count": 2,
   "id": "e8a6f2db",
   "metadata": {},
   "outputs": [],
   "source": [
    "import cv2                                # Computer Vison Library OpenCV\n",
    "import numpy as np                        # numpy arrays structure our datasets\n",
    "import os                                 # work with operating systems file path\n",
    "from matplotlib import pyplot as plt      # matplotlib just helps us visualize images a little bit easier\n",
    "import mediapipe as mp                    # mediapipe (https://google.github.io/mediapipe/)"
   ]
  },
  {
   "cell_type": "markdown",
   "id": "75fd867f",
   "metadata": {},
   "source": [
    "# 02. Keypoints Using MP FashMesh"
   ]
  },
  {
   "cell_type": "code",
   "execution_count": 3,
   "id": "507d1e43",
   "metadata": {},
   "outputs": [],
   "source": [
    "mp_face_mesh = mp.solutions.face_mesh              # FaceMesh Model has -- 478 -- Keypoints \n",
    "mp_drawing_styles = mp.solutions.drawing_styles    # Drawing styles\n",
    "mp_drawing = mp.solutions.drawing_utils            # Drawing utilites"
   ]
  },
  {
   "cell_type": "code",
   "execution_count": 4,
   "id": "0ae50df3",
   "metadata": {},
   "outputs": [],
   "source": [
    "def mediapipe_detection(image,model):\n",
    "    image = cv2.cvtColor(image , cv2.COLOR_BGR2RGB)   # COLOR CONVERSION BGR 2 RGB\n",
    "    image.flags.writeable = False                     # Image is no longer writeable\n",
    "    results = model.process(image)                    # Make prediction\n",
    "    image.flags.writeable = True                      # Image is now writeable\n",
    "    image = cv2.cvtColor(image, cv2.COLOR_RGB2BGR)    # COLOR CONVERSION RGB 2 BGR\n",
    "    return image, results"
   ]
  },
  {
   "cell_type": "code",
   "execution_count": 26,
   "id": "d53f98ba",
   "metadata": {},
   "outputs": [],
   "source": [
    "cap = cv2.VideoCapture(0)\n",
    "with mp_face_mesh.FaceMesh(min_detection_confidence=0.5,min_tracking_confidence=0.5) as fashmesh:\n",
    "    while cap.isOpened():\n",
    "        \n",
    "        ret , frame = cap.read()\n",
    "        \n",
    "        image , results = mediapipe_detection(frame, fashmesh)\n",
    "        \n",
    "        cv2.imshow('OpenCV' , frame)\n",
    "        \n",
    "        if cv2.waitKey(10) & 0xFF == ord('q'):\n",
    "            break\n",
    "    cap.release()\n",
    "    cv2.destroyAllWindows()"
   ]
  },
  {
   "cell_type": "code",
   "execution_count": 12,
   "id": "f93d3449",
   "metadata": {},
   "outputs": [],
   "source": [
    "cap.release()\n",
    "cv2.destroyAllWindows()"
   ]
  },
  {
   "cell_type": "code",
   "execution_count": 31,
   "id": "cf1ba563",
   "metadata": {},
   "outputs": [
    {
     "data": {
      "text/plain": [
       "<function list.count(value, /)>"
      ]
     },
     "execution_count": 31,
     "metadata": {},
     "output_type": "execute_result"
    }
   ],
   "source": [
    "results.multi_face_landmarks.count"
   ]
  },
  {
   "cell_type": "code",
   "execution_count": 5,
   "id": "12b4ff72",
   "metadata": {},
   "outputs": [],
   "source": [
    "def draw_landmarks(image,face_landmarks):\n",
    "    # Draw face connections\n",
    "    mp_drawing.draw_landmarks(\n",
    "            image= image,\n",
    "            landmark_list= face_landmarks,\n",
    "            connections= mp_face_mesh.FACEMESH_TESSELATION,\n",
    "            landmark_drawing_spec= None,\n",
    "            connection_drawing_spec=mp_drawing_styles.get_default_face_mesh_tesselation_style())\n",
    "    \n",
    "    # Draw face countours (FACEMESH_CONTOURS = frozenset().union(*[FACEMESH_LIPS, FACEMESH_LEFT_EYE, FACEMESH_LEFT_EYEBROW, FACEME) connections\n",
    "    mp_drawing.draw_landmarks(\n",
    "            image= image,\n",
    "            landmark_list= face_landmarks,\n",
    "            connections= mp_face_mesh.FACEMESH_CONTOURS,\n",
    "            landmark_drawing_spec= None,\n",
    "            connection_drawing_spec= mp_drawing_styles.get_default_face_mesh_contours_style())\n",
    "    \n",
    "    # Draw eye iris ( FACEMESH_IRISES = frozenset().union(*[FACEMESH_LEFT_IRIS, FACEMESH_RIGHT_IRIS]) ) connections\n",
    "    mp_drawing.draw_landmarks(\n",
    "            image= image,\n",
    "            landmark_list= face_landmarks,\n",
    "            connections= mp_face_mesh.FACEMESH_IRISES,\n",
    "            landmark_drawing_spec= None,\n",
    "            connection_drawing_spec= mp_drawing_styles.get_default_face_mesh_iris_connections_style())"
   ]
  },
  {
   "cell_type": "markdown",
   "id": "a118d8c7",
   "metadata": {},
   "source": [
    "# 03. Extract EYE Keypoints Values"
   ]
  },
  {
   "cell_type": "code",
   "execution_count": null,
   "id": "2a60e28e",
   "metadata": {},
   "outputs": [],
   "source": [
    "def extract_keypoints(results):\n",
    "    face = np.array([[res.x , res.y , res.z] \n",
    "                     for res in results.multi_face_landmarks[0].landmark]).flatten() \n",
    "    if results.multi_face_landmarks[0].landmark \n",
    "    else np.zeros(478*3)\n",
    "    return np.concatenate([face])\n"
   ]
  }
 ],
 "metadata": {
  "kernelspec": {
   "display_name": "Python 3 (ipykernel)",
   "language": "python",
   "name": "python3"
  },
  "language_info": {
   "codemirror_mode": {
    "name": "ipython",
    "version": 3
   },
   "file_extension": ".py",
   "mimetype": "text/x-python",
   "name": "python",
   "nbconvert_exporter": "python",
   "pygments_lexer": "ipython3",
   "version": "3.9.7"
  }
 },
 "nbformat": 4,
 "nbformat_minor": 5
}
