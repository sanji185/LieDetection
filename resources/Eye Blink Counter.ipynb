{
 "cells": [
  {
   "cell_type": "markdown",
   "id": "d484e2cb",
   "metadata": {},
   "source": [
    "# Eye Blink Counter "
   ]
  },
  {
   "cell_type": "code",
   "execution_count": 1,
   "id": "4b6f4607",
   "metadata": {},
   "outputs": [
    {
     "name": "stdout",
     "output_type": "stream",
     "text": [
      "Requirement already satisfied: opencv-python in c:\\anaconda\\lib\\site-packages (4.5.5.62)\n",
      "Requirement already satisfied: cvzone in c:\\anaconda\\lib\\site-packages (1.5.5)\n",
      "Requirement already satisfied: numpy>=1.19.3 in c:\\anaconda\\lib\\site-packages (from opencv-python) (1.19.5)\n"
     ]
    }
   ],
   "source": [
    "!pip install opencv-python cvzone"
   ]
  },
  {
   "cell_type": "code",
   "execution_count": 2,
   "id": "bd0eae1f",
   "metadata": {},
   "outputs": [],
   "source": [
    "import cv2\n",
    "import cvzone\n",
    "from cvzone.FaceMeshModule import FaceMeshDetector\n",
    "from cvzone.PlotModule import LivePlot"
   ]
  },
  {
   "cell_type": "code",
   "execution_count": 3,
   "id": "d055f73a",
   "metadata": {},
   "outputs": [],
   "source": [
    "cap = cv2.VideoCapture('VideoFile.mp4')\n",
    "detector = FaceMeshDetector(maxFaces=1)\n",
    "plotY = LivePlot(640, 360, [20, 50], invert=True)\n",
    " \n",
    "idList = [22, 23, 24, 26, 110, 157, 158, 159, 160, 161, 130, 243]\n",
    "ratioList = []\n",
    "blinkCounter = 0\n",
    "counter = 0\n",
    "color = (255, 0, 255)\n",
    " \n",
    "while cap.isOpened():\n",
    " \n",
    "\n",
    "    if cap.get(cv2.CAP_PROP_POS_FRAMES) == cap.get(cv2.CAP_PROP_FRAME_COUNT):\n",
    "        break\n",
    "#         cap.set(cv2.CAP_PROP_POS_FRAMES, 0)\n",
    "\n",
    " \n",
    "    success, img = cap.read()\n",
    "    img, faces = detector.findFaceMesh(img, draw=False)\n",
    " \n",
    "    if faces:\n",
    "        face = faces[0]\n",
    "        for i in idList:\n",
    "            cv2.circle(img, face[i], 5,color, cv2.FILLED)\n",
    " \n",
    "        leftUp = face[159]\n",
    "        leftDown = face[23]\n",
    "        leftLeft = face[130]\n",
    "        leftRight = face[243]\n",
    "        lenghtVer, _ = detector.findDistance(leftUp, leftDown)\n",
    "        lenghtHor, _ = detector.findDistance(leftLeft, leftRight)\n",
    " \n",
    "        cv2.line(img, leftUp, leftDown, (0, 200, 0), 3)\n",
    "        cv2.line(img, leftLeft, leftRight, (0, 200, 0), 3)\n",
    " \n",
    "        ratio = int((lenghtVer / lenghtHor) * 100)\n",
    "        ratioList.append(ratio)\n",
    "        if len(ratioList) > 3:\n",
    "            ratioList.pop(0)\n",
    "        ratioAvg = sum(ratioList) / len(ratioList)\n",
    " \n",
    "        if ratioAvg < 35 and counter == 0:\n",
    "            blinkCounter += 1\n",
    "            color = (0,200,0)\n",
    "            counter = 1\n",
    "        if counter != 0:\n",
    "            counter += 1\n",
    "            if counter > 10:\n",
    "                counter = 0\n",
    "                color = (255,0, 255)\n",
    " \n",
    "        cvzone.putTextRect(img, f'Blink Count: {blinkCounter}', (50, 100),\n",
    "                           colorR=color)\n",
    " \n",
    "        imgPlot = plotY.update(ratioAvg, color)\n",
    "        img = cv2.resize(img, (640, 360))\n",
    "        imgStack = cvzone.stackImages([img, imgPlot], 2, 1)\n",
    "    else:\n",
    "        img = cv2.resize(img, (640, 360))\n",
    "        imgStack = cvzone.stackImages([img, img], 2, 1)\n",
    " \n",
    "    cv2.imshow(\"Image\", imgStack)\n",
    "    # Break gracefully\n",
    "    k = cv2.waitKey(30) & 0xff # press ESC to exit\n",
    "    if k == 27 or cv2.getWindowProperty('Image', 0)<0:\n",
    "        break\n",
    "cap.release()\n",
    "cv2.destroyAllWindows()"
   ]
  }
 ],
 "metadata": {
  "kernelspec": {
   "display_name": "Python 3 (ipykernel)",
   "language": "python",
   "name": "python3"
  },
  "language_info": {
   "codemirror_mode": {
    "name": "ipython",
    "version": 3
   },
   "file_extension": ".py",
   "mimetype": "text/x-python",
   "name": "python",
   "nbconvert_exporter": "python",
   "pygments_lexer": "ipython3",
   "version": "3.9.7"
  }
 },
 "nbformat": 4,
 "nbformat_minor": 5
}
