{
 "cells": [
  {
   "cell_type": "markdown",
   "id": "311899ed",
   "metadata": {},
   "source": [
    "# _Import and Install Dependencies"
   ]
  },
  {
   "cell_type": "code",
   "execution_count": 1,
   "id": "7d55a787",
   "metadata": {
    "collapsed": true
   },
   "outputs": [
    {
     "name": "stdout",
     "output_type": "stream",
     "text": [
      "Requirement already satisfied: opencv-python in c:\\anaconda\\lib\\site-packages (4.5.5.62)\n",
      "Requirement already satisfied: mediapipe in c:\\anaconda\\lib\\site-packages (0.8.9.1)\n",
      "Requirement already satisfied: numpy>=1.17.3 in c:\\anaconda\\lib\\site-packages (from opencv-python) (1.19.5)\n",
      "Requirement already satisfied: absl-py in c:\\users\\sms studio\\appdata\\roaming\\python\\python39\\site-packages (from mediapipe) (0.12.0)\n",
      "Requirement already satisfied: matplotlib in c:\\anaconda\\lib\\site-packages (from mediapipe) (3.4.3)\n",
      "Requirement already satisfied: protobuf>=3.11.4 in c:\\users\\sms studio\\appdata\\roaming\\python\\python39\\site-packages (from mediapipe) (3.17.2)\n",
      "Requirement already satisfied: opencv-contrib-python in c:\\anaconda\\lib\\site-packages (from mediapipe) (4.5.5.62)\n",
      "Requirement already satisfied: attrs>=19.1.0 in c:\\anaconda\\lib\\site-packages (from mediapipe) (21.2.0)\n",
      "Requirement already satisfied: six>=1.9 in c:\\users\\sms studio\\appdata\\roaming\\python\\python39\\site-packages (from protobuf>=3.11.4->mediapipe) (1.15.0)\n",
      "Requirement already satisfied: kiwisolver>=1.0.1 in c:\\anaconda\\lib\\site-packages (from matplotlib->mediapipe) (1.3.1)\n",
      "Requirement already satisfied: cycler>=0.10 in c:\\anaconda\\lib\\site-packages (from matplotlib->mediapipe) (0.10.0)\n",
      "Requirement already satisfied: python-dateutil>=2.7 in c:\\anaconda\\lib\\site-packages (from matplotlib->mediapipe) (2.8.2)\n",
      "Requirement already satisfied: pillow>=6.2.0 in c:\\anaconda\\lib\\site-packages (from matplotlib->mediapipe) (8.4.0)\n",
      "Requirement already satisfied: pyparsing>=2.2.1 in c:\\anaconda\\lib\\site-packages (from matplotlib->mediapipe) (3.0.4)\n"
     ]
    }
   ],
   "source": [
    "!pip install opencv-python mediapipe"
   ]
  },
  {
   "cell_type": "code",
   "execution_count": 61,
   "id": "fc28437f",
   "metadata": {},
   "outputs": [],
   "source": [
    "import cv2 as cv\n",
    "import mediapipe as mp\n",
    "import time\n",
    "import numpy as np\n",
    "import pygame \n",
    "from pygame import mixer \n",
    "from math import *"
   ]
  },
  {
   "cell_type": "code",
   "execution_count": null,
   "id": "8b046c96",
   "metadata": {},
   "outputs": [],
   "source": []
  },
  {
   "cell_type": "code",
   "execution_count": null,
   "id": "e2e8e99a",
   "metadata": {},
   "outputs": [],
   "source": []
  },
  {
   "cell_type": "markdown",
   "id": "d688b065",
   "metadata": {},
   "source": [
    "# _Create Functions"
   ]
  },
  {
   "cell_type": "code",
   "execution_count": 62,
   "id": "2711ac56",
   "metadata": {},
   "outputs": [],
   "source": [
    "# landmark detection function \n",
    "def landmarksDetection(img, results, draw=False):\n",
    "    img_height, img_width= img.shape[:2]\n",
    "    # list[(x,y), (x,y)....]\n",
    "    mesh_coord = [(int(point.x * img_width), int(point.y * img_height)) for point in results.multi_face_landmarks[0].landmark]\n",
    "    if draw :\n",
    "        [cv.circle(img, p, 2, (0,255,0), -1) for p in mesh_coord]\n",
    "\n",
    "    # returning the list of tuples for each landmarks \n",
    "    return mesh_coord"
   ]
  },
  {
   "cell_type": "code",
   "execution_count": 63,
   "id": "f36b0b12",
   "metadata": {},
   "outputs": [],
   "source": [
    "# Euclaidean distance \n",
    "def euclaideanDistance(point, point1):\n",
    "    x, y = point\n",
    "    x1, y1 = point1\n",
    "    distance = sqrt((x1 - x)**2 + (y1 - y)**2)\n",
    "    return distance"
   ]
  },
  {
   "cell_type": "code",
   "execution_count": 64,
   "id": "e9fa8af7",
   "metadata": {},
   "outputs": [],
   "source": [
    "# Blinking Ratio\n",
    "def blinkRatio(img, landmarks, right_indices, left_indices):\n",
    "    # Right eyes \n",
    "    # horizontal line \n",
    "    rh_right = landmarks[right_indices[0]]\n",
    "    rh_left = landmarks[right_indices[8]]\n",
    "    # vertical line \n",
    "    rv_top = landmarks[right_indices[12]]\n",
    "    rv_bottom = landmarks[right_indices[4]]\n",
    "    # draw lines on right eyes \n",
    "    # cv.line(img, rh_right, rh_left, utils.GREEN, 2)\n",
    "    # cv.line(img, rv_top, rv_bottom, utils.WHITE, 2)\n",
    "\n",
    "    # LEFT_EYE \n",
    "    # horizontal line \n",
    "    lh_right = landmarks[left_indices[0]]\n",
    "    lh_left = landmarks[left_indices[8]]\n",
    "\n",
    "    # vertical line \n",
    "    lv_top = landmarks[left_indices[12]]\n",
    "    lv_bottom = landmarks[left_indices[4]]\n",
    "\n",
    "    rhDistance = euclaideanDistance(rh_right, rh_left)\n",
    "    rvDistance = euclaideanDistance(rv_top, rv_bottom)\n",
    "\n",
    "    lvDistance = euclaideanDistance(lv_top, lv_bottom)\n",
    "    lhDistance = euclaideanDistance(lh_right, lh_left)\n",
    "\n",
    "    reRatio = rhDistance/rvDistance\n",
    "    leRatio = lhDistance/lvDistance\n",
    "\n",
    "    ratio = (reRatio+leRatio)/2\n",
    "    return ratio"
   ]
  },
  {
   "cell_type": "code",
   "execution_count": 65,
   "id": "a8050d96",
   "metadata": {},
   "outputs": [],
   "source": [
    "# Eyes Extrctor function,\n",
    "def eyesExtractor(img, right_eye_coords, left_eye_coords):\n",
    "    # converting color image to  scale image \n",
    "    gray = cv.cvtColor(img, cv.COLOR_BGR2GRAY)\n",
    "    \n",
    "    # getting the dimension of image \n",
    "    dim = gray.shape\n",
    "\n",
    "    # creating mask from gray scale dim\n",
    "    mask = np.zeros(dim, dtype=np.uint8)\n",
    "\n",
    "    # drawing Eyes Shape on mask with white color \n",
    "    cv.fillPoly(mask, [np.array(right_eye_coords, dtype=np.int32)], 255)\n",
    "    cv.fillPoly(mask, [np.array(left_eye_coords, dtype=np.int32)], 255)\n",
    "\n",
    "    # showing the mask \n",
    "    # cv.imshow('mask', mask)\n",
    "    \n",
    "    # draw eyes image on mask, where white shape is \n",
    "    eyes = cv.bitwise_and(gray, gray, mask=mask)\n",
    "    # change black color to gray other than eys \n",
    "    # cv.imshow('eyes draw', eyes)\n",
    "    eyes[mask==0]=155\n",
    "    \n",
    "    # getting minium and maximum x and y  for right and left eyes \n",
    "    # For Right Eye \n",
    "    r_max_x = (max(right_eye_coords, key=lambda item: item[0]))[0]\n",
    "    r_min_x = (min(right_eye_coords, key=lambda item: item[0]))[0]\n",
    "    r_max_y = (max(right_eye_coords, key=lambda item : item[1]))[1]\n",
    "    r_min_y = (min(right_eye_coords, key=lambda item: item[1]))[1]\n",
    "\n",
    "    # For LEFT Eye\n",
    "    l_max_x = (max(left_eye_coords, key=lambda item: item[0]))[0]\n",
    "    l_min_x = (min(left_eye_coords, key=lambda item: item[0]))[0]\n",
    "    l_max_y = (max(left_eye_coords, key=lambda item : item[1]))[1]\n",
    "    l_min_y = (min(left_eye_coords, key=lambda item: item[1]))[1]\n",
    "\n",
    "    # croping the eyes from mask \n",
    "    cropped_right = eyes[r_min_y: r_max_y, r_min_x: r_max_x]\n",
    "    cropped_left = eyes[l_min_y: l_max_y, l_min_x: l_max_x]\n",
    "\n",
    "    # returning the cropped eyes \n",
    "    return cropped_right, cropped_left"
   ]
  },
  {
   "cell_type": "code",
   "execution_count": 66,
   "id": "d4f3079f",
   "metadata": {},
   "outputs": [],
   "source": [
    "# Eyes Postion Estimator \n",
    "def positionEstimator(cropped_eye):\n",
    "    # getting height and width of eye \n",
    "    h, w =cropped_eye.shape\n",
    "    \n",
    "    # remove the noise from images\n",
    "    gaussain_blur = cv.GaussianBlur(cropped_eye, (9,9),0)\n",
    "    median_blur = cv.medianBlur(gaussain_blur, 3)\n",
    "\n",
    "    # applying thrsholding to convert binary_image\n",
    "    ret, threshed_eye = cv.threshold(median_blur, 130, 255, cv.THRESH_BINARY)\n",
    "\n",
    "    # create fixd part for eye with \n",
    "    piece = int(w/3) \n",
    "\n",
    "    # slicing the eyes into three parts \n",
    "    right_piece = threshed_eye[0:h, 0:piece]\n",
    "    center_piece = threshed_eye[0:h, piece: piece+piece]\n",
    "    left_piece = threshed_eye[0:h, piece +piece:w]\n",
    "    \n",
    "    # calling pixel counter function\n",
    "    eye_position, color = pixelCounter(right_piece, center_piece, left_piece)\n",
    "\n",
    "    return eye_position, color "
   ]
  },
  {
   "cell_type": "code",
   "execution_count": 67,
   "id": "561b1740",
   "metadata": {},
   "outputs": [],
   "source": [
    "# creating pixel counter function \n",
    "def pixelCounter(first_piece, second_piece, third_piece):\n",
    "    # counting black pixel in each part \n",
    "    right_part = np.sum(first_piece==0)\n",
    "    center_part = np.sum(second_piece==0)\n",
    "    left_part = np.sum(third_piece==0)\n",
    "    # creating list of these values\n",
    "    eye_parts = [right_part, center_part, left_part]\n",
    "\n",
    "    # getting the index of max values in the list \n",
    "    max_index = eye_parts.index(max(eye_parts))\n",
    "    pos_eye ='' \n",
    "    if max_index==0:\n",
    "        pos_eye=\"RIGHT\"\n",
    "        color=[BLACK, GREEN]\n",
    "    elif max_index==1:\n",
    "        pos_eye = 'CENTER'\n",
    "        color = [YELLOW, PINK]\n",
    "    elif max_index ==2:\n",
    "        pos_eye = 'LEFT'\n",
    "        color = [GRAY, YELLOW]\n",
    "    else:\n",
    "        pos_eye=\"Closed\"\n",
    "        color = [GRAY, YELLOW]\n",
    "    return pos_eye, color"
   ]
  },
  {
   "cell_type": "code",
   "execution_count": 68,
   "id": "afa3f5cc",
   "metadata": {},
   "outputs": [],
   "source": [
    "# styled color function \n",
    "def colorBackgroundText(img, text, font, fontScale, textPos, textThickness=1,textColor=(0,255,0), bgColor=(0,0,0), pad_x=3, pad_y=3):\n",
    "    \"\"\"\n",
    "    Draws text with background, with  control transparency\n",
    "    @param img:(mat) which you want to draw text\n",
    "    @param text: (string) text you want draw\n",
    "    @param font: fonts face, like FONT_HERSHEY_COMPLEX, FONT_HERSHEY_PLAIN etc.\n",
    "    @param fontScale: (double) the size of text, how big it should be.\n",
    "    @param textPos: tuple(x,y) position where you want to draw text\n",
    "    @param textThickness:(int) fonts weight, how bold it should be\n",
    "    @param textPos: tuple(x,y) position where you want to draw text\n",
    "    @param textThickness:(int) fonts weight, how bold it should be.\n",
    "    @param textColor: tuple(BGR), values -->0 to 255 each\n",
    "    @param bgColor: tuple(BGR), values -->0 to 255 each\n",
    "    @param pad_x: int(pixels)  padding of in x direction\n",
    "    @param pad_y: int(pixels) 1 to 1.0 (), controls transparency of  text background \n",
    "    @return: img(mat) with draw with background\n",
    "    \"\"\"\n",
    "    (t_w, t_h), _= cv.getTextSize(text, font, fontScale, textThickness) # getting the text size\n",
    "    x, y = textPos\n",
    "    cv.rectangle(img, (x-pad_x, y+ pad_y), (x+t_w+pad_x, y-t_h-pad_y), bgColor,-1) # draw rectangle \n",
    "    cv.putText(img,text, textPos,font, fontScale, textColor,textThickness ) # draw in text\n",
    "\n",
    "    return img"
   ]
  },
  {
   "cell_type": "code",
   "execution_count": 69,
   "id": "dd695a2d",
   "metadata": {},
   "outputs": [],
   "source": [
    "def textWithBackground(img, text, font, fontScale, textPos, textThickness=1,textColor=(0,255,0), bgColor=(0,0,0), pad_x=3, pad_y=3, bgOpacity=0.5):\n",
    "    \"\"\"\n",
    "    Draws text with background, with  control transparency\n",
    "    @param img:(mat) which you want to draw text\n",
    "    @param text: (string) text you want draw\n",
    "    @param font: fonts face, like FONT_HERSHEY_COMPLEX, FONT_HERSHEY_PLAIN etc.\n",
    "    @param fontScale: (double) the size of text, how big it should be.\n",
    "    @param textPos: tuple(x,y) position where you want to draw text\n",
    "    @param textThickness:(int) fonts weight, how bold it should be\n",
    "    @param textPos: tuple(x,y) position where you want to draw text\n",
    "    @param textThickness:(int) fonts weight, how bold it should be.\n",
    "    @param textColor: tuple(BGR), values -->0 to 255 each\n",
    "    @param bgColor: tuple(BGR), values -->0 to 255 each\n",
    "    @param pad_x: int(pixels)  padding of in x direction\n",
    "    @param pad_y: int(pixels) 1 to 1.0 (), controls transparency of  text background \n",
    "    @return: img(mat) with draw with background\n",
    "    \"\"\"\n",
    "    (t_w, t_h), _= cv.getTextSize(text, font, fontScale, textThickness) # getting the text size\n",
    "    x, y = textPos\n",
    "    overlay = img.copy() # coping the image\n",
    "    cv.rectangle(overlay, (x-pad_x, y+ pad_y), (x+t_w+pad_x, y-t_h-pad_y), bgColor,-1) # draw rectangle \n",
    "    new_img = cv.addWeighted(overlay, bgOpacity, img, 1 - bgOpacity, 0) # overlaying the rectangle on the image.\n",
    "    cv.putText(new_img,text, textPos,font, fontScale, textColor,textThickness ) # draw in text\n",
    "    img = new_img\n",
    "\n",
    "    return img"
   ]
  },
  {
   "cell_type": "markdown",
   "id": "1c42ed4f",
   "metadata": {},
   "source": [
    "# _Using Model"
   ]
  },
  {
   "cell_type": "code",
   "execution_count": 70,
   "id": "bde21d6b",
   "metadata": {},
   "outputs": [],
   "source": [
    "map_face_mesh = mp.solutions.face_mesh # mediapipe.solutions.face_mesh"
   ]
  },
  {
   "cell_type": "markdown",
   "id": "c50cff5e",
   "metadata": {},
   "source": [
    "# _Variables Declaration"
   ]
  },
  {
   "cell_type": "code",
   "execution_count": 71,
   "id": "ef644c38",
   "metadata": {},
   "outputs": [],
   "source": [
    "# variables \n",
    "frame_counter =0\n",
    "CEF_COUNTER =0\n",
    "TOTAL_BLINKS =0\n",
    "start_voice= False\n",
    "counter_right=0\n",
    "counter_left =0\n",
    "counter_center =0 \n",
    "# constants\n",
    "CLOSED_EYES_FRAME =3\n",
    "FONTS =cv.FONT_HERSHEY_COMPLEX"
   ]
  },
  {
   "cell_type": "code",
   "execution_count": 72,
   "id": "f78ee990",
   "metadata": {},
   "outputs": [],
   "source": [
    "# face bounder indices \n",
    "FACE_OVAL=[ 10, 338, 297, 332, 284, 251, 389, 356, 454, 323, 361, 288, 397, 365, 379, 378, 400, 377, 152, 148, 176, 149, 150, 136, 172, 58, 132, 93, 234, 127, 162, 21, 54, 103,67, 109]\n",
    " \n",
    "# Left eyes indices \n",
    "LEFT_EYE =[ 362, 382, 381, 380, 374, 373, 390, 249, 263, 466, 388, 387, 386, 385,384, 398 ]\n",
    "LEFT_EYEBROW =[ 336, 296, 334, 293, 300, 276, 283, 282, 295, 285 ]\n",
    "\n",
    "# right eyes indices\n",
    "RIGHT_EYE=[ 33, 7, 163, 144, 145, 153, 154, 155, 133, 173, 157, 158, 159, 160, 161 , 246 ]  \n",
    "RIGHT_EYEBROW=[ 70, 63, 105, 66, 107, 55, 65, 52, 53, 46 ]"
   ]
  },
  {
   "cell_type": "code",
   "execution_count": 73,
   "id": "380f8c2a",
   "metadata": {},
   "outputs": [],
   "source": [
    "# colors \n",
    "# values =(blue, green, red) opencv accepts BGR values not RGB\n",
    "BLACK = (0,0,0)\n",
    "WHITE = (255,255,255)\n",
    "BLUE = (255,0,0)\n",
    "RED = (0,0,255)\n",
    "CYAN = (255,255,0)\n",
    "YELLOW =(0,255,255)\n",
    "MAGENTA = (255,0,255)\n",
    "GRAY = (128,128,128)\n",
    "GREEN = (0,255,0)\n",
    "PURPLE = (128,0,128)\n",
    "ORANGE = (0,165,255)\n",
    "PINK = (147,20,255)\n",
    "points_list =[(200, 300), (150, 150), (400, 200)]"
   ]
  },
  {
   "cell_type": "code",
   "execution_count": 77,
   "id": "14bde379",
   "metadata": {},
   "outputs": [],
   "source": [
    "# # video Recording setup \n",
    "# fourcc = cv.VideoWriter_fourcc(*'XVID')\n",
    "# out = cv.VideoWriter('output21.mp4', fourcc, 30.0, (img_width, img_hieght))"
   ]
  },
  {
   "cell_type": "markdown",
   "id": "f2356790",
   "metadata": {},
   "source": [
    "# _ Run Script"
   ]
  },
  {
   "cell_type": "code",
   "execution_count": 74,
   "id": "5d725d1a",
   "metadata": {},
   "outputs": [
    {
     "name": "stdout",
     "output_type": "stream",
     "text": [
      "720 960\n"
     ]
    }
   ],
   "source": [
    "# camera object \n",
    "cap = cv.VideoCapture(0)\n",
    "ret, frame = cap.read()\n",
    "img = cv.resize(frame, None, fx=1.5, fy=1.5, interpolation=cv.INTER_CUBIC)\n",
    "img_hieght, img_width = img.shape[:2]\n",
    "print(img_hieght, img_width)"
   ]
  },
  {
   "cell_type": "code",
   "execution_count": 95,
   "id": "635a221a",
   "metadata": {},
   "outputs": [],
   "source": [
    "with map_face_mesh.FaceMesh(min_detection_confidence =0.5, min_tracking_confidence=0.5) as face_mesh:\n",
    "\n",
    "    # starting time here \n",
    "    start_time = time.time()\n",
    "    # starting Video loop here.\n",
    "    while True:\n",
    "        frame_counter +=1 # frame counter\n",
    "        ret, frame = cap.read() # getting frame from camera \n",
    "        if not ret: \n",
    "            break # no more frames break\n",
    "        #  resizing frame\n",
    "        \n",
    "        frame = cv.resize(frame, None, fx=1.5, fy=1.5, interpolation=cv.INTER_CUBIC)\n",
    "        frame_height, frame_width= frame.shape[:2]\n",
    "        rgb_frame = cv.cvtColor(frame, cv.COLOR_RGB2BGR)\n",
    "        results  = face_mesh.process(rgb_frame)\n",
    "        if results.multi_face_landmarks:\n",
    "            mesh_coords = landmarksDetection(frame, results, False)\n",
    "            ratio = blinkRatio(frame, mesh_coords, RIGHT_EYE, LEFT_EYE)\n",
    "            colorBackgroundText(frame,  f'Ratio : {round(ratio,2)}', FONTS, 0.7, (30,100),2, PINK, YELLOW)\n",
    "\n",
    "            if ratio >5.5:\n",
    "                CEF_COUNTER +=1\n",
    "                colorBackgroundText(frame,  f'Blink', FONTS, 1.7, (int(frame_height/2), 100), 2, YELLOW, pad_x=6, pad_y=6, )\n",
    "\n",
    "            else:\n",
    "                if CEF_COUNTER>CLOSED_EYES_FRAME:\n",
    "                    TOTAL_BLINKS +=1\n",
    "                    CEF_COUNTER =0\n",
    "           \n",
    "            colorBackgroundText(frame,  f'Total Blinks: {TOTAL_BLINKS}', FONTS, 0.7, (30,150),2)\n",
    "            \n",
    "            cv.polylines(frame,  [np.array([mesh_coords[p] for p in LEFT_EYE ], dtype=np.int32)], True, GREEN, 1, cv.LINE_AA)\n",
    "            cv.polylines(frame,  [np.array([mesh_coords[p] for p in RIGHT_EYE ], dtype=np.int32)], True, GREEN, 1, cv.LINE_AA)\n",
    "\n",
    "            # Blink Detector Counter Completed\n",
    "            right_coords = [mesh_coords[p] for p in RIGHT_EYE]\n",
    "            left_coords = [mesh_coords[p] for p in LEFT_EYE]\n",
    "            crop_right, crop_left = eyesExtractor(frame, right_coords, left_coords)\n",
    "            # cv.imshow('right', crop_right)\n",
    "            # cv.imshow('left', crop_left)\n",
    "            eye_position_right, color = positionEstimator(crop_right)\n",
    "            colorBackgroundText(frame, f'R: {eye_position_right}', FONTS, 1.0, (40, 220), 2, color[0], color[1], 8, 8)\n",
    "            eye_position_left, color = positionEstimator(crop_left)\n",
    "            colorBackgroundText(frame, f'L: {eye_position_left}', FONTS, 1.0, (40, 320), 2, color[0], color[1], 8, 8)\n",
    "            \n",
    "            # Starting Indicator \n",
    "            if eye_position_right==\"RIGHT\" and  counter_right<2:\n",
    "                # starting counter \n",
    "                counter_right+=1\n",
    "                # resetting counters \n",
    "                counter_center=0\n",
    "                counter_left=0\n",
    "\n",
    "\n",
    "            if eye_position_right==\"CENTER\"  and counter_center <2:\n",
    "                # starting Counter \n",
    "                counter_center +=1\n",
    "                # resetting counters \n",
    "                counter_right=0\n",
    "                counter_left=0\n",
    "                \n",
    "            \n",
    "            if eye_position_right==\"LEFT\"  and counter_left<2: \n",
    "                counter_left +=1\n",
    "                # resetting counters \n",
    "                counter_center=0\n",
    "                counter_right=0\n",
    "\n",
    "\n",
    "\n",
    "        # calculating  frame per seconds FPS\n",
    "        end_time = time.time()-start_time\n",
    "        fps = frame_counter/end_time\n",
    "        \n",
    "\n",
    "        frame =textWithBackground(frame,f'FPS: {round(fps,1)}',FONTS, 1.0, (30, 50), bgOpacity=0.9, textThickness=2)\n",
    "        # writing image for thumbnail drawing shape\n",
    "        # cv.imwrite(f'img/frame_{frame_counter}.png', frame)\n",
    "        # wirting the video for demo purpose \n",
    "        # out.write(frame)\n",
    "        cv.imshow('frame', frame)\n",
    "        key = cv.waitKey(2)\n",
    "        if key==ord('q') or key ==ord('Q'):\n",
    "            break\n",
    "    cv.destroyAllWindows()\n",
    "    camera.release()\n"
   ]
  },
  {
   "cell_type": "code",
   "execution_count": 96,
   "id": "b1f87df0",
   "metadata": {},
   "outputs": [],
   "source": [
    "cv.destroyAllWindows()\n",
    "camera.release()"
   ]
  },
  {
   "cell_type": "markdown",
   "id": "91d65af4",
   "metadata": {},
   "source": [
    "# ~Get video values"
   ]
  },
  {
   "cell_type": "code",
   "execution_count": 82,
   "id": "385fdc5d",
   "metadata": {},
   "outputs": [
    {
     "name": "stdout",
     "output_type": "stream",
     "text": [
      "TOTAL_BLINKS 13\n",
      "counter_right 0\n",
      "counter_left 1\n"
     ]
    }
   ],
   "source": [
    "print(\"TOTAL_BLINKS\",TOTAL_BLINKS)\n",
    "print(\"counter_right\",counter_right)\n",
    "print(\"counter_left\",counter_left)"
   ]
  },
  {
   "cell_type": "code",
   "execution_count": null,
   "id": "d7717b8a",
   "metadata": {},
   "outputs": [],
   "source": []
  }
 ],
 "metadata": {
  "kernelspec": {
   "display_name": "Python 3 (ipykernel)",
   "language": "python",
   "name": "python3"
  },
  "language_info": {
   "codemirror_mode": {
    "name": "ipython",
    "version": 3
   },
   "file_extension": ".py",
   "mimetype": "text/x-python",
   "name": "python",
   "nbconvert_exporter": "python",
   "pygments_lexer": "ipython3",
   "version": "3.9.7"
  }
 },
 "nbformat": 4,
 "nbformat_minor": 5
}
